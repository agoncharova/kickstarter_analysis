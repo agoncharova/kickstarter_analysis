{
 "cells": [
  {
   "cell_type": "markdown",
   "id": "2b327c58",
   "metadata": {},
   "source": [
    "# Kickstarter project\n",
    "\n",
    "Analysis of key Kickstarter campaign indicators:\n",
    "- Finding optimal campaign duration.\n",
    "- Evaluating successful campaign categories.\n",
    "- Finding an optimal time to launch a campaign.\n",
    "- Inspecting pledged amount vs. funded percent.\n",
    "- Inspecting the number of backers."
   ]
  },
  {
   "cell_type": "code",
   "execution_count": 1,
   "id": "e33ad44d",
   "metadata": {},
   "outputs": [],
   "source": [
    "import numpy as np\n",
    "import pandas as pd\n",
    "import scipy as sp\n",
    "from matplotlib import pyplot as plt"
   ]
  },
  {
   "cell_type": "code",
   "execution_count": 2,
   "id": "bdc066c8",
   "metadata": {},
   "outputs": [],
   "source": [
    "# Optional format change\n",
    "# data = pd.read_excel('data.xlsx')\n",
    "# data.to_csv('data.csv',index=False)"
   ]
  },
  {
   "cell_type": "code",
   "execution_count": 3,
   "id": "0a536dfc",
   "metadata": {},
   "outputs": [],
   "source": [
    "data = pd.read_csv('data.csv')"
   ]
  },
  {
   "cell_type": "code",
   "execution_count": 4,
   "id": "14bd3c22",
   "metadata": {},
   "outputs": [
    {
     "data": {
      "text/html": [
       "<div>\n",
       "<style scoped>\n",
       "    .dataframe tbody tr th:only-of-type {\n",
       "        vertical-align: middle;\n",
       "    }\n",
       "\n",
       "    .dataframe tbody tr th {\n",
       "        vertical-align: top;\n",
       "    }\n",
       "\n",
       "    .dataframe thead th {\n",
       "        text-align: right;\n",
       "    }\n",
       "</style>\n",
       "<table border=\"1\" class=\"dataframe\">\n",
       "  <thead>\n",
       "    <tr style=\"text-align: right;\">\n",
       "      <th></th>\n",
       "      <th>project id</th>\n",
       "      <th>name</th>\n",
       "      <th>url</th>\n",
       "      <th>category</th>\n",
       "      <th>subcategory</th>\n",
       "      <th>location</th>\n",
       "      <th>status</th>\n",
       "      <th>goal</th>\n",
       "      <th>pledged</th>\n",
       "      <th>funded percentage</th>\n",
       "      <th>backers</th>\n",
       "      <th>funded date</th>\n",
       "      <th>levels</th>\n",
       "      <th>reward levels</th>\n",
       "      <th>updates</th>\n",
       "      <th>comments</th>\n",
       "      <th>duration</th>\n",
       "    </tr>\n",
       "  </thead>\n",
       "  <tbody>\n",
       "    <tr>\n",
       "      <th>0</th>\n",
       "      <td>39409</td>\n",
       "      <td>WHILE THE TREES SLEEP</td>\n",
       "      <td>http://www.kickstarter.com/projects/emiliesaba...</td>\n",
       "      <td>Film &amp; Video</td>\n",
       "      <td>Short Film</td>\n",
       "      <td>Columbia, MO</td>\n",
       "      <td>successful</td>\n",
       "      <td>10500</td>\n",
       "      <td>11545.0</td>\n",
       "      <td>1.099524</td>\n",
       "      <td>66</td>\n",
       "      <td>Fri, 19 Aug 2011 19:28:17 -0000</td>\n",
       "      <td>7</td>\n",
       "      <td>$25,$50,$100,$250,$500,$1,000,$2,500</td>\n",
       "      <td>10</td>\n",
       "      <td>2</td>\n",
       "      <td>30.00</td>\n",
       "    </tr>\n",
       "    <tr>\n",
       "      <th>1</th>\n",
       "      <td>126581</td>\n",
       "      <td>Educational Online Trading Card Game</td>\n",
       "      <td>http://www.kickstarter.com/projects/972789543/...</td>\n",
       "      <td>Games</td>\n",
       "      <td>Board &amp; Card Games</td>\n",
       "      <td>Maplewood, NJ</td>\n",
       "      <td>failed</td>\n",
       "      <td>4000</td>\n",
       "      <td>20.0</td>\n",
       "      <td>0.005000</td>\n",
       "      <td>2</td>\n",
       "      <td>Mon, 02 Aug 2010 03:59:00 -0000</td>\n",
       "      <td>5</td>\n",
       "      <td>$1,$5,$10,$25,$50</td>\n",
       "      <td>6</td>\n",
       "      <td>0</td>\n",
       "      <td>47.18</td>\n",
       "    </tr>\n",
       "    <tr>\n",
       "      <th>2</th>\n",
       "      <td>138119</td>\n",
       "      <td>STRUM</td>\n",
       "      <td>http://www.kickstarter.com/projects/185476022/...</td>\n",
       "      <td>Film &amp; Video</td>\n",
       "      <td>Animation</td>\n",
       "      <td>Los Angeles, CA</td>\n",
       "      <td>live</td>\n",
       "      <td>20000</td>\n",
       "      <td>56.0</td>\n",
       "      <td>0.002800</td>\n",
       "      <td>3</td>\n",
       "      <td>Fri, 08 Jun 2012 00:00:31 -0000</td>\n",
       "      <td>10</td>\n",
       "      <td>$1,$10,$25,$40,$50,$100,$250,$1,000,$1,337,$9,001</td>\n",
       "      <td>1</td>\n",
       "      <td>0</td>\n",
       "      <td>28.00</td>\n",
       "    </tr>\n",
       "    <tr>\n",
       "      <th>3</th>\n",
       "      <td>237090</td>\n",
       "      <td>GETTING OVER - One son's search to finally kno...</td>\n",
       "      <td>http://www.kickstarter.com/projects/charnick/g...</td>\n",
       "      <td>Film &amp; Video</td>\n",
       "      <td>Documentary</td>\n",
       "      <td>Los Angeles, CA</td>\n",
       "      <td>successful</td>\n",
       "      <td>6000</td>\n",
       "      <td>6535.0</td>\n",
       "      <td>1.089167</td>\n",
       "      <td>100</td>\n",
       "      <td>Sun, 08 Apr 2012 02:14:00 -0000</td>\n",
       "      <td>13</td>\n",
       "      <td>$1,$10,$25,$30,$50,$75,$85,$100,$110,$250,$500...</td>\n",
       "      <td>4</td>\n",
       "      <td>0</td>\n",
       "      <td>32.22</td>\n",
       "    </tr>\n",
       "    <tr>\n",
       "      <th>4</th>\n",
       "      <td>246101</td>\n",
       "      <td>The Launch of FlyeGrlRoyalty &amp;quot;The New Nam...</td>\n",
       "      <td>http://www.kickstarter.com/projects/flyegrlroy...</td>\n",
       "      <td>Fashion</td>\n",
       "      <td>Fashion</td>\n",
       "      <td>Novi, MI</td>\n",
       "      <td>failed</td>\n",
       "      <td>3500</td>\n",
       "      <td>0.0</td>\n",
       "      <td>0.000000</td>\n",
       "      <td>0</td>\n",
       "      <td>Wed, 01 Jun 2011 15:25:39 -0000</td>\n",
       "      <td>6</td>\n",
       "      <td>$10,$25,$50,$100,$150,$250</td>\n",
       "      <td>2</td>\n",
       "      <td>0</td>\n",
       "      <td>30.00</td>\n",
       "    </tr>\n",
       "    <tr>\n",
       "      <th>...</th>\n",
       "      <td>...</td>\n",
       "      <td>...</td>\n",
       "      <td>...</td>\n",
       "      <td>...</td>\n",
       "      <td>...</td>\n",
       "      <td>...</td>\n",
       "      <td>...</td>\n",
       "      <td>...</td>\n",
       "      <td>...</td>\n",
       "      <td>...</td>\n",
       "      <td>...</td>\n",
       "      <td>...</td>\n",
       "      <td>...</td>\n",
       "      <td>...</td>\n",
       "      <td>...</td>\n",
       "      <td>...</td>\n",
       "      <td>...</td>\n",
       "    </tr>\n",
       "    <tr>\n",
       "      <th>45952</th>\n",
       "      <td>2147336747</td>\n",
       "      <td>The Dance Project</td>\n",
       "      <td>http://www.kickstarter.com/projects/685772205/...</td>\n",
       "      <td>Dance</td>\n",
       "      <td>Dance</td>\n",
       "      <td>Austin, TX</td>\n",
       "      <td>successful</td>\n",
       "      <td>500</td>\n",
       "      <td>601.0</td>\n",
       "      <td>1.202000</td>\n",
       "      <td>13</td>\n",
       "      <td>Fri, 30 Mar 2012 13:57:00 -0000</td>\n",
       "      <td>3</td>\n",
       "      <td>$20,$50,$100</td>\n",
       "      <td>2</td>\n",
       "      <td>0</td>\n",
       "      <td>37.83</td>\n",
       "    </tr>\n",
       "    <tr>\n",
       "      <th>45953</th>\n",
       "      <td>2147346811</td>\n",
       "      <td>new album from J-Sw!ft The Adventures of Negro...</td>\n",
       "      <td>http://www.kickstarter.com/projects/170926480/...</td>\n",
       "      <td>Music</td>\n",
       "      <td>Hip-Hop</td>\n",
       "      <td>Los Angeles, CA</td>\n",
       "      <td>failed</td>\n",
       "      <td>10000</td>\n",
       "      <td>75.0</td>\n",
       "      <td>0.007500</td>\n",
       "      <td>2</td>\n",
       "      <td>Sun, 22 Apr 2012 02:12:10 -0000</td>\n",
       "      <td>14</td>\n",
       "      <td>$1,$5,$10,$25,$50,$50,$75,$100,$200,$250,$500,...</td>\n",
       "      <td>1</td>\n",
       "      <td>1</td>\n",
       "      <td>59.96</td>\n",
       "    </tr>\n",
       "    <tr>\n",
       "      <th>45954</th>\n",
       "      <td>2147367534</td>\n",
       "      <td>ELIZABETH REX</td>\n",
       "      <td>http://www.kickstarter.com/projects/elizabethr...</td>\n",
       "      <td>Music</td>\n",
       "      <td>Rock</td>\n",
       "      <td>Los Angeles, CA</td>\n",
       "      <td>successful</td>\n",
       "      <td>10000</td>\n",
       "      <td>10000.0</td>\n",
       "      <td>1.000000</td>\n",
       "      <td>58</td>\n",
       "      <td>Mon, 16 Jan 2012 05:00:00 -0000</td>\n",
       "      <td>4</td>\n",
       "      <td>$10,$25,$100,$500</td>\n",
       "      <td>2</td>\n",
       "      <td>0</td>\n",
       "      <td>27.32</td>\n",
       "    </tr>\n",
       "    <tr>\n",
       "      <th>45955</th>\n",
       "      <td>2147369705</td>\n",
       "      <td>Dragon Keepers IV Book Project</td>\n",
       "      <td>http://www.kickstarter.com/projects/brucegoldw...</td>\n",
       "      <td>Publishing</td>\n",
       "      <td>Fiction</td>\n",
       "      <td>Vero Beach, FL</td>\n",
       "      <td>failed</td>\n",
       "      <td>2999</td>\n",
       "      <td>257.0</td>\n",
       "      <td>0.085695</td>\n",
       "      <td>11</td>\n",
       "      <td>Sat, 19 May 2012 19:44:47 -0000</td>\n",
       "      <td>7</td>\n",
       "      <td>$15,$16,$19,$29,$29,$39,$75</td>\n",
       "      <td>17</td>\n",
       "      <td>0</td>\n",
       "      <td>30.00</td>\n",
       "    </tr>\n",
       "    <tr>\n",
       "      <th>45956</th>\n",
       "      <td>2147460119</td>\n",
       "      <td>Moments of Insight</td>\n",
       "      <td>http://www.kickstarter.com/projects/1743305220...</td>\n",
       "      <td>Art</td>\n",
       "      <td>Conceptual Art</td>\n",
       "      <td>Bozeman, MT</td>\n",
       "      <td>successful</td>\n",
       "      <td>18000</td>\n",
       "      <td>18758.0</td>\n",
       "      <td>1.042111</td>\n",
       "      <td>53</td>\n",
       "      <td>Thu, 04 Aug 2011 04:30:00 -0000</td>\n",
       "      <td>10</td>\n",
       "      <td>$25,$25,$50,$100,$125,$250,$500,$1,250,$2,500,...</td>\n",
       "      <td>20</td>\n",
       "      <td>4</td>\n",
       "      <td>40.38</td>\n",
       "    </tr>\n",
       "  </tbody>\n",
       "</table>\n",
       "<p>45957 rows × 17 columns</p>\n",
       "</div>"
      ],
      "text/plain": [
       "       project id                                               name  \\\n",
       "0           39409                              WHILE THE TREES SLEEP   \n",
       "1          126581               Educational Online Trading Card Game   \n",
       "2          138119                                              STRUM   \n",
       "3          237090  GETTING OVER - One son's search to finally kno...   \n",
       "4          246101  The Launch of FlyeGrlRoyalty &quot;The New Nam...   \n",
       "...           ...                                                ...   \n",
       "45952  2147336747                                  The Dance Project   \n",
       "45953  2147346811  new album from J-Sw!ft The Adventures of Negro...   \n",
       "45954  2147367534                                      ELIZABETH REX   \n",
       "45955  2147369705                     Dragon Keepers IV Book Project   \n",
       "45956  2147460119                                 Moments of Insight   \n",
       "\n",
       "                                                     url      category  \\\n",
       "0      http://www.kickstarter.com/projects/emiliesaba...  Film & Video   \n",
       "1      http://www.kickstarter.com/projects/972789543/...         Games   \n",
       "2      http://www.kickstarter.com/projects/185476022/...  Film & Video   \n",
       "3      http://www.kickstarter.com/projects/charnick/g...  Film & Video   \n",
       "4      http://www.kickstarter.com/projects/flyegrlroy...       Fashion   \n",
       "...                                                  ...           ...   \n",
       "45952  http://www.kickstarter.com/projects/685772205/...         Dance   \n",
       "45953  http://www.kickstarter.com/projects/170926480/...         Music   \n",
       "45954  http://www.kickstarter.com/projects/elizabethr...         Music   \n",
       "45955  http://www.kickstarter.com/projects/brucegoldw...    Publishing   \n",
       "45956  http://www.kickstarter.com/projects/1743305220...           Art   \n",
       "\n",
       "              subcategory         location      status   goal  pledged  \\\n",
       "0              Short Film     Columbia, MO  successful  10500  11545.0   \n",
       "1      Board & Card Games    Maplewood, NJ      failed   4000     20.0   \n",
       "2               Animation  Los Angeles, CA        live  20000     56.0   \n",
       "3             Documentary  Los Angeles, CA  successful   6000   6535.0   \n",
       "4                 Fashion         Novi, MI      failed   3500      0.0   \n",
       "...                   ...              ...         ...    ...      ...   \n",
       "45952               Dance       Austin, TX  successful    500    601.0   \n",
       "45953             Hip-Hop  Los Angeles, CA      failed  10000     75.0   \n",
       "45954                Rock  Los Angeles, CA  successful  10000  10000.0   \n",
       "45955             Fiction   Vero Beach, FL      failed   2999    257.0   \n",
       "45956      Conceptual Art      Bozeman, MT  successful  18000  18758.0   \n",
       "\n",
       "       funded percentage  backers                      funded date  levels  \\\n",
       "0               1.099524       66  Fri, 19 Aug 2011 19:28:17 -0000       7   \n",
       "1               0.005000        2  Mon, 02 Aug 2010 03:59:00 -0000       5   \n",
       "2               0.002800        3  Fri, 08 Jun 2012 00:00:31 -0000      10   \n",
       "3               1.089167      100  Sun, 08 Apr 2012 02:14:00 -0000      13   \n",
       "4               0.000000        0  Wed, 01 Jun 2011 15:25:39 -0000       6   \n",
       "...                  ...      ...                              ...     ...   \n",
       "45952           1.202000       13  Fri, 30 Mar 2012 13:57:00 -0000       3   \n",
       "45953           0.007500        2  Sun, 22 Apr 2012 02:12:10 -0000      14   \n",
       "45954           1.000000       58  Mon, 16 Jan 2012 05:00:00 -0000       4   \n",
       "45955           0.085695       11  Sat, 19 May 2012 19:44:47 -0000       7   \n",
       "45956           1.042111       53  Thu, 04 Aug 2011 04:30:00 -0000      10   \n",
       "\n",
       "                                           reward levels  updates  comments  \\\n",
       "0                   $25,$50,$100,$250,$500,$1,000,$2,500       10         2   \n",
       "1                                      $1,$5,$10,$25,$50        6         0   \n",
       "2      $1,$10,$25,$40,$50,$100,$250,$1,000,$1,337,$9,001        1         0   \n",
       "3      $1,$10,$25,$30,$50,$75,$85,$100,$110,$250,$500...        4         0   \n",
       "4                             $10,$25,$50,$100,$150,$250        2         0   \n",
       "...                                                  ...      ...       ...   \n",
       "45952                                       $20,$50,$100        2         0   \n",
       "45953  $1,$5,$10,$25,$50,$50,$75,$100,$200,$250,$500,...        1         1   \n",
       "45954                                  $10,$25,$100,$500        2         0   \n",
       "45955                        $15,$16,$19,$29,$29,$39,$75       17         0   \n",
       "45956  $25,$25,$50,$100,$125,$250,$500,$1,250,$2,500,...       20         4   \n",
       "\n",
       "       duration  \n",
       "0         30.00  \n",
       "1         47.18  \n",
       "2         28.00  \n",
       "3         32.22  \n",
       "4         30.00  \n",
       "...         ...  \n",
       "45952     37.83  \n",
       "45953     59.96  \n",
       "45954     27.32  \n",
       "45955     30.00  \n",
       "45956     40.38  \n",
       "\n",
       "[45957 rows x 17 columns]"
      ]
     },
     "execution_count": 4,
     "metadata": {},
     "output_type": "execute_result"
    }
   ],
   "source": [
    "data"
   ]
  },
  {
   "cell_type": "code",
   "execution_count": 5,
   "id": "8f17875a",
   "metadata": {},
   "outputs": [
    {
     "name": "stdout",
     "output_type": "stream",
     "text": [
      "Mean pledged: 4980.749678963979 USD\n"
     ]
    }
   ],
   "source": [
    "mean_p = np.mean(data['pledged'])\n",
    "print('Mean pledged:', mean_p, 'USD')"
   ]
  },
  {
   "cell_type": "markdown",
   "id": "bdba1533",
   "metadata": {},
   "source": [
    "## Finding optimal campaign duration"
   ]
  },
  {
   "cell_type": "markdown",
   "id": "3986561e",
   "metadata": {},
   "source": [
    "Let us have a look at the distribution of campaign durations."
   ]
  },
  {
   "cell_type": "code",
   "execution_count": 6,
   "id": "a8cabfc9",
   "metadata": {},
   "outputs": [
    {
     "data": {
      "text/plain": [
       "Text(0, 0.5, 'Occurrence')"
      ]
     },
     "execution_count": 6,
     "metadata": {},
     "output_type": "execute_result"
    },
    {
     "data": {
      "image/png": "[encoded data removed]",
      "text/plain": [
       "<Figure size 640x480 with 1 Axes>"
      ]
     },
     "metadata": {},
     "output_type": "display_data"
    }
   ],
   "source": [
    "# Make histogram of duration\n",
    "plt.hist(data['duration'].values, bins=50, log=True)\n",
    "plt.xlabel('Duration [days]')\n",
    "plt.ylabel('Occurrence')"
   ]
  },
  {
   "cell_type": "code",
   "execution_count": 7,
   "id": "93882703",
   "metadata": {},
   "outputs": [
    {
     "name": "stdout",
     "output_type": "stream",
     "text": [
      "Duration skewness:  1.0780267931867737\n"
     ]
    }
   ],
   "source": [
    "skewness_duration = data['duration'].skew()\n",
    "print('Duration skewness: ', skewness_duration)"
   ]
  },
  {
   "cell_type": "markdown",
   "id": "7e3ca8ed",
   "metadata": {},
   "source": [
    "We may consider campaign duration \"optimal\" if it leads to a larger fraction of successful campaigns (funded by 100%). To identify fraction/frequency, we first discretize the values by making a histogram."
   ]
  },
  {
   "cell_type": "code",
   "execution_count": 8,
   "id": "0964c813",
   "metadata": {},
   "outputs": [
    {
     "data": {
      "image/png": "[encoded data removed]",
      "text/plain": [
       "<Figure size 640x480 with 1 Axes>"
      ]
     },
     "metadata": {},
     "output_type": "display_data"
    }
   ],
   "source": [
    "data_success = data.loc[data['status'] == 'successful']\n",
    "data_failed = data.loc[data['status'] == 'failed']\n",
    "ns, bs, _ = plt.hist(data_success['duration'], label='Success', alpha=0.5, bins=10)\n",
    "nf, bf, _ = plt.hist(data_failed['duration'], label='Fail', alpha=0.5, bins=10)\n",
    "plt.xlabel('Duration [days]')\n",
    "plt.ylabel('Occurrence')\n",
    "plt.legend()\n",
    "ns = np.array(ns) # Number of successful campaigns per duration bin\n",
    "nf = np.array(nf) # Number of failed campaigns per duration bin"
   ]
  },
  {
   "cell_type": "markdown",
   "id": "9957823d",
   "metadata": {},
   "source": [
    "From `plt.hist()`, we get values of histogram bins (`ns`, `nf`) corresponding to a number of successful and failed campaigns, respectively. We also get (`bs`, `bf`) corresponding to bin edges. It is convenient to convert bin edges to bin centers:"
   ]
  },
  {
   "cell_type": "code",
   "execution_count": 9,
   "id": "a879168f",
   "metadata": {},
   "outputs": [],
   "source": [
    "bs = [(bs[ii] + bs[ii-1])/2 for ii in range(1, len(bs))] \n",
    "bf = [(bf[ii] + bf[ii-1])/2 for ii in range(1, len(bf))]"
   ]
  },
  {
   "cell_type": "markdown",
   "id": "93bc2889",
   "metadata": {},
   "source": [
    "Now, we can plot the fraction of successful and unsuccessful campaigns by binned duration."
   ]
  },
  {
   "cell_type": "code",
   "execution_count": 10,
   "id": "2a3ed9fb",
   "metadata": {},
   "outputs": [
    {
     "data": {
      "image/png": "[encoded data removed]",
      "text/plain": [
       "<Figure size 640x480 with 1 Axes>"
      ]
     },
     "metadata": {},
     "output_type": "display_data"
    }
   ],
   "source": [
    "bottom = np.zeros(len(bs))\n",
    "ns_fraction = ns / (ns + nf) * 100\n",
    "_ = plt.bar(bs, ns_fraction, label='success')\n",
    "bottom += ns_fraction\n",
    "_ = plt.bar(bf, nf / (ns + nf) * 100, label='fail', bottom=bottom)\n",
    "plt.xlabel('Duration')\n",
    "plt.ylabel('Success rate')\n",
    "plt.legend()\n",
    "_ = plt.xticks([0,10,20,30,40,50,60,70,80,90])"
   ]
  },
  {
   "cell_type": "markdown",
   "id": "4bd646d4",
   "metadata": {},
   "source": [
    "**Conclusion:** From the plot above, it appears that campaign durations between 10-30 days are optimal.\n",
    "\n",
    "----------------------------------------"
   ]
  },
  {
   "cell_type": "markdown",
   "id": "1bf62b83",
   "metadata": {},
   "source": [
    "## Successful campaign categories\n",
    "\n",
    "Kickstarter campaigns fall into the following categories:"
   ]
  },
  {
   "cell_type": "code",
   "execution_count": 11,
   "id": "e469ac7e",
   "metadata": {},
   "outputs": [
    {
     "name": "stdout",
     "output_type": "stream",
     "text": [
      "['Film & Video' 'Games' 'Fashion' 'Music' 'Art' 'Technology' 'Dance'\n",
      " 'Publishing' 'Theater' 'Comics' 'Design' 'Photography' 'Food']\n"
     ]
    }
   ],
   "source": [
    "print(data.category.unique())"
   ]
  },
  {
   "cell_type": "markdown",
   "id": "dc89f515",
   "metadata": {},
   "source": [
    "Below, we evaluate the fraction of successful campaigns in each category."
   ]
  },
  {
   "cell_type": "code",
   "execution_count": 12,
   "id": "20f80eb5",
   "metadata": {},
   "outputs": [
    {
     "name": "stdout",
     "output_type": "stream",
     "text": [
      "Fashion \t 32.87536800785084\n",
      "Technology \t 39.21302578018996\n",
      "Publishing \t 40.21660649819495\n",
      "Games \t 43.28561690524881\n",
      "Photography \t 46.50324441240086\n",
      "Design \t 46.55172413793103\n",
      "Food \t 50.462249614791986\n",
      "Film & Video \t 50.996427153632396\n",
      "Comics \t 53.71900826446281\n",
      "Art \t 57.05770793822812\n",
      "Music \t 67.56192181438377\n",
      "Theater \t 70.71490094745909\n",
      "Dance \t 74.54031117397454\n"
     ]
    }
   ],
   "source": [
    "win_dict = {}\n",
    "for ii, cat in enumerate(data.category.unique()):\n",
    "    successful = len(data.loc[(data['category'] == cat) & (data['status'] == 'successful')].index)\n",
    "    failed = len(data.loc[(data['category'] == cat) & (data['status'] == 'failed')].index)\n",
    "    win_percent = successful / (successful + failed) * 100\n",
    "    win_dict[cat] = win_percent\n",
    "\n",
    "win_sorted = sorted(win_dict.items(), key=lambda x: x[1])\n",
    "\n",
    "for element in win_sorted:\n",
    "    print(element[0],'\\t',element[1])"
   ]
  },
  {
   "cell_type": "markdown",
   "id": "5d994400",
   "metadata": {},
   "source": [
    "**Conclusion:** The most successful campaign category is \"Dance\".\n",
    "\n",
    "----------------------------------------"
   ]
  },
  {
   "cell_type": "markdown",
   "id": "b044e8f3",
   "metadata": {},
   "source": [
    "## Optimal time to launch a campaign"
   ]
  },
  {
   "cell_type": "code",
   "execution_count": 13,
   "id": "9f4643c1",
   "metadata": {},
   "outputs": [
    {
     "name": "stdout",
     "output_type": "stream",
     "text": [
      "Dec \t 52.28857229463474\n",
      "Jul \t 53.07341060765718\n",
      "May \t 53.328661527680445\n",
      "Jan \t 53.429951690821255\n",
      "Jun \t 53.93258426966292\n",
      "Sep \t 54.30127041742286\n",
      "Feb \t 54.56232601299102\n",
      "Oct \t 54.623348803998574\n",
      "Aug \t 54.73061760840998\n",
      "Mar \t 56.85457337135337\n",
      "Apr \t 57.14007023019898\n",
      "Nov \t 57.46212121212121\n"
     ]
    }
   ],
   "source": [
    "win_dict = {}\n",
    "for month in ['Jan', 'Feb', 'Mar', 'Apr',\n",
    "              'May', 'Jun', 'Jul', 'Aug',\n",
    "              'Sep', 'Oct', 'Nov', 'Dec']:\n",
    "    successful = len(data.loc[\n",
    "                         (data['funded date'].str.contains(month)) &\n",
    "                         (data['status'] == 'successful')].index)\n",
    "    failed = len(data.loc[\n",
    "                     (data['funded date'].str.contains(month)) &\n",
    "                     (data['status'] == 'failed')].index)\n",
    "    win_percent = successful/(successful+failed)*100\n",
    "    win_dict[month] = win_percent\n",
    "\n",
    "win_sorted = sorted(win_dict.items(), key=lambda x: x[1])\n",
    "\n",
    "for element in win_sorted:\n",
    "    print(element[0],'\\t',element[1])"
   ]
  },
  {
   "cell_type": "code",
   "execution_count": 16,
   "id": "b7ed0295",
   "metadata": {},
   "outputs": [
    {
     "data": {
      "image/png": "[encoded data removed]",
      "text/plain": [
       "<Figure size 640x480 with 2 Axes>"
      ]
     },
     "metadata": {},
     "output_type": "display_data"
    }
   ],
   "source": [
    "fig, (ax1, ax2) = plt.subplots(1, 2)\n",
    "ax1.bar(win_dict.keys(), win_dict.values(), color='g')\n",
    "ax2.bar(win_dict.keys(), win_dict.values(), color='g')\n",
    "ax2.set_ylim([50,60])\n",
    "ax1.set_xlabel('Month')\n",
    "ax2.set_xlabel('Month')\n",
    "ax1.set_ylabel('Success rate, %')\n",
    "ax2.set_ylabel('Success rate, %')\n",
    "ax2.set_title('Zoomed in on the y-axis')\n",
    "_ = ax1.tick_params(rotation=90)\n",
    "_ = ax2.tick_params(rotation=90)"
   ]
  },
  {
   "cell_type": "markdown",
   "id": "e34477b4",
   "metadata": {},
   "source": [
    "**Conclusion:** There are slightly more successful campaigns (by a few percent) in November, April and March compared to other months. \n",
    "\n",
    "----------------------------------------"
   ]
  },
  {
   "cell_type": "markdown",
   "id": "fbce99a8",
   "metadata": {},
   "source": [
    "## Pledged vs. Funded percent"
   ]
  },
  {
   "cell_type": "code",
   "execution_count": 17,
   "id": "9cc7863d",
   "metadata": {},
   "outputs": [
    {
     "data": {
      "image/png": "[encoded data removed]",
      "text/plain": [
       "<Figure size 640x480 with 1 Axes>"
      ]
     },
     "metadata": {},
     "output_type": "display_data"
    }
   ],
   "source": [
    "plt.scatter(data['pledged'], data['funded percentage'])\n",
    "plt.xlabel('Pledged [USD]')\n",
    "plt.ylabel('Funded percent')\n",
    "plt.yscale('log')\n",
    "plt.xscale('log')"
   ]
  },
  {
   "cell_type": "markdown",
   "id": "c8d5d16d",
   "metadata": {},
   "source": [
    "## Number of backers"
   ]
  },
  {
   "cell_type": "code",
   "execution_count": 27,
   "id": "224db620",
   "metadata": {},
   "outputs": [
    {
     "data": {
      "text/plain": [
       "Text(0, 0.5, 'Occurrence')"
      ]
     },
     "execution_count": 27,
     "metadata": {},
     "output_type": "execute_result"
    },
    {
     "data": {
      "image/png": "[encoded data removed]",
      "text/plain": [
       "<Figure size 800x400 with 2 Axes>"
      ]
     },
     "metadata": {},
     "output_type": "display_data"
    }
   ],
   "source": [
    "# Make histogram of a number of backers\n",
    "#plt.hist(np.log10(data['backers'].values)[np.log10(data['backers'].values)!=-np.inf], bins=50)\n",
    "fig, (ax1, ax2) = plt.subplots(1, 2, figsize=(8, 4))\n",
    "ax1.hist(data['backers'].values, bins=150, log=True)\n",
    "ax2.hist(data['backers'].values, bins=150, log=True)\n",
    "ax1.set_title('Linear-Log')\n",
    "ax2.set_title('Log-Log')\n",
    "ax2.set_xscale('log')\n",
    "ax1.set_xlabel('Backers')\n",
    "ax1.set_ylabel('Occurrence')\n",
    "ax2.set_xlabel('Backers')\n",
    "ax2.set_ylabel('Occurrence')"
   ]
  },
  {
   "cell_type": "code",
   "execution_count": 28,
   "id": "628d8e2a",
   "metadata": {},
   "outputs": [
    {
     "name": "stdout",
     "output_type": "stream",
     "text": [
      "Backers skewness: 87.47397431084505\n"
     ]
    }
   ],
   "source": [
    "skewness_backers = data['backers'].skew()\n",
    "print('Backers skewness:', skewness_backers)"
   ]
  },
  {
   "cell_type": "code",
   "execution_count": null,
   "id": "473eb7e0",
   "metadata": {},
   "outputs": [],
   "source": []
  },
  {
   "cell_type": "code",
   "execution_count": null,
   "id": "efc6421d",
   "metadata": {},
   "outputs": [],
   "source": []
  }
 ],
 "metadata": {
  "kernelspec": {
   "display_name": "base",
   "language": "python",
   "name": "python3"
  },
  "language_info": {
   "codemirror_mode": {
    "name": "ipython",
    "version": 3
   },
   "file_extension": ".py",
   "mimetype": "text/x-python",
   "name": "python",
   "nbconvert_exporter": "python",
   "pygments_lexer": "ipython3",
   "version": "3.12.2"
  }
 },
 "nbformat": 4,
 "nbformat_minor": 5
}
